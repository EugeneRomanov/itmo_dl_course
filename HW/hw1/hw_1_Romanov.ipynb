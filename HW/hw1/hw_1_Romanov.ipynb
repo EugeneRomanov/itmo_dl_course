{
 "cells": [
  {
   "cell_type": "markdown",
   "id": "de3d7a7a",
   "metadata": {},
   "source": [
    "## 1. Загрузка данных "
   ]
  },
  {
   "cell_type": "code",
   "execution_count": 5,
   "id": "6b8be556",
   "metadata": {},
   "outputs": [],
   "source": [
    "import pandas as pd\n",
    "import numpy as np\n",
    "from sklearn.model_selection import train_test_split\n",
    "import torch\n",
    "from torch.utils.data import Dataset, DataLoader\n",
    "\n",
    "# 1. Загрзка данных\n",
    "df = pd.read_csv('air_quality.csv')\n",
    "\n",
    "# 2. Подготовка данных\n",
    "# Разделяем признаки и целевую переменную\n",
    "X = df.drop('air_quality', axis=1)\n",
    "y = df['air_quality']\n"
   ]
  },
  {
   "cell_type": "markdown",
   "id": "ab3a0bbe",
   "metadata": {},
   "source": [
    "## 2. Подготовьте данные к обучению - 1 балл\n",
    "\n",
    "- Разделите датасет на обучающую, валидационную и тестовую выборки со стратификацией. В качестве целевой переменной используйте столбец air_quality - бинарный столбец (0 - плохое качество воздуха, 1 - хорошее качество воздуха).\n",
    "\n",
    "- Создайте объекты для работы с данными в PyTorch - Dataset и DataLoader для обучающей, валидационной и тестовой выборок. Выберите оптимальный, на ваш взгляд, batch_size."
   ]
  },
  {
   "cell_type": "code",
   "execution_count": 6,
   "id": "76512d02",
   "metadata": {},
   "outputs": [],
   "source": [
    "# Разделяем данные на обучающую+валидационную и тестовую выборки (80/20)\n",
    "X_temp, X_test, y_temp, y_test = train_test_split(\n",
    "    X, y, \n",
    "    test_size=0.2, \n",
    "    random_state=42,\n",
    "    stratify=y\n",
    ")\n",
    "\n",
    "# Разделяем обучающую+валидационную выборку на обучающую и валидационную (75/25)\n",
    "X_train, X_val, y_train, y_val = train_test_split(\n",
    "    X_temp, y_temp,\n",
    "    test_size=0.25,\n",
    "    random_state=42,\n",
    "    stratify=y_temp\n",
    ")"
   ]
  },
  {
   "cell_type": "code",
   "execution_count": 7,
   "id": "5af5db54",
   "metadata": {},
   "outputs": [
    {
     "name": "stdout",
     "output_type": "stream",
     "text": [
      "Размер обучающей выборки: 3000\n",
      "Размер валидационной выборки: 1000\n",
      "Размер тестовой выборки: 1000\n"
     ]
    }
   ],
   "source": [
    "# Создаем класс для работы с данными\n",
    "class AirQualityDataset(Dataset):\n",
    "    def __init__(self, X, y):\n",
    "        self.X = torch.FloatTensor(X.values)\n",
    "        self.y = torch.LongTensor(y.values)\n",
    "        \n",
    "    def __len__(self):\n",
    "        return len(self.X)\n",
    "    \n",
    "    def __getitem__(self, idx):\n",
    "        return self.X[idx], self.y[idx]\n",
    "\n",
    "# Создаем объекты Dataset\n",
    "train_dataset = AirQualityDataset(X_train, y_train)\n",
    "val_dataset = AirQualityDataset(X_val, y_val)\n",
    "test_dataset = AirQualityDataset(X_test, y_test)\n",
    "\n",
    "# Создаем объекты DataLoader\n",
    "# Используем batch_size=32, что является распространенным выбором,\n",
    "# обеспечивающим хороший баланс между скоростью обучения и памятью\n",
    "batch_size = 32\n",
    "\n",
    "train_loader = DataLoader(\n",
    "    train_dataset, \n",
    "    batch_size=batch_size, \n",
    "    shuffle=True\n",
    ")\n",
    "\n",
    "val_loader = DataLoader(\n",
    "    val_dataset, \n",
    "    batch_size=batch_size, \n",
    "    shuffle=False\n",
    ")\n",
    "\n",
    "test_loader = DataLoader(\n",
    "    test_dataset, \n",
    "    batch_size=batch_size, \n",
    "    shuffle=False\n",
    ")\n",
    "\n",
    "# Проверка размеров выборок\n",
    "print(f\"Размер обучающей выборки: {len(train_dataset)}\")\n",
    "print(f\"Размер валидационной выборки: {len(val_dataset)}\")\n",
    "print(f\"Размер тестовой выборки: {len(test_dataset)}\")"
   ]
  },
  {
   "cell_type": "markdown",
   "id": "89a1ddf8",
   "metadata": {},
   "source": [
    "## 3. Реализуйте класс нейросетевой модели для решения задачи - 1 балл\n",
    "\n",
    "- Минимальное количество Linear слоев в структуре - 3 штуки: входной слой, скрытый слой, выходной классификационный слой.\n",
    "- Подберите оптимальные для задачи функции активации - ReLU, Sigmoid, Tanh, LeakyReLU...\n",
    "- Реализуйте логику прохождения данных по сети в методе forward\n",
    "- Cоздайте объект модели, реализуйте перевод модели на gpu"
   ]
  },
  {
   "cell_type": "markdown",
   "id": "f088f95b",
   "metadata": {},
   "source": [
    "Примечание: в качестве устрйо ства я указал свой девайс cuda:0. девайс может отличатсья взависимости от конфигурации вашего ПК"
   ]
  },
  {
   "cell_type": "code",
   "execution_count": 8,
   "id": "33e12f42",
   "metadata": {},
   "outputs": [
    {
     "name": "stdout",
     "output_type": "stream",
     "text": [
      "Модель использует устройство: cuda:0\n",
      "\n",
      "Структура модели:\n",
      "AirQualityNet(\n",
      "  (layer1): Sequential(\n",
      "    (0): Linear(in_features=9, out_features=64, bias=True)\n",
      "    (1): BatchNorm1d(64, eps=1e-05, momentum=0.1, affine=True, track_running_stats=True)\n",
      "    (2): ReLU()\n",
      "    (3): Dropout(p=0.3, inplace=False)\n",
      "  )\n",
      "  (layer2): Sequential(\n",
      "    (0): Linear(in_features=64, out_features=32, bias=True)\n",
      "    (1): BatchNorm1d(32, eps=1e-05, momentum=0.1, affine=True, track_running_stats=True)\n",
      "    (2): ReLU()\n",
      "    (3): Dropout(p=0.2, inplace=False)\n",
      "  )\n",
      "  (layer3): Sequential(\n",
      "    (0): Linear(in_features=32, out_features=1, bias=True)\n",
      "    (1): Sigmoid()\n",
      "  )\n",
      ")\n"
     ]
    }
   ],
   "source": [
    "import torch\n",
    "import torch.nn as nn\n",
    "\n",
    "class AirQualityNet(nn.Module):\n",
    "    def __init__(self, input_size):\n",
    "        super(AirQualityNet, self).__init__()\n",
    "        \n",
    "        # Определяем архитектуру сети\n",
    "        self.layer1 = nn.Sequential(\n",
    "            nn.Linear(input_size, 64),\n",
    "            nn.BatchNorm1d(64),  # Batch Normalization для стабилизации обучения\n",
    "            nn.ReLU(),          # ReLU для первого слоя\n",
    "            nn.Dropout(0.3)     # Dropout для предотвращения переобучения\n",
    "        )\n",
    "        \n",
    "        self.layer2 = nn.Sequential(\n",
    "            nn.Linear(64, 32),\n",
    "            nn.BatchNorm1d(32),\n",
    "            nn.ReLU(),\n",
    "            nn.Dropout(0.2)\n",
    "        )\n",
    "        \n",
    "        # Выходной слой с sigmoid активацией, т.к. у нас бинарная классификация\n",
    "        self.layer3 = nn.Sequential(\n",
    "            nn.Linear(32, 1),\n",
    "            nn.Sigmoid()\n",
    "        )\n",
    "        \n",
    "    def forward(self, x):\n",
    "        x = self.layer1(x)\n",
    "        x = self.layer2(x)\n",
    "        x = self.layer3(x)\n",
    "        return x.squeeze()  # squeeze убирает размерность = 1\n",
    "\n",
    "# Получаем размерность входного слоя из данных\n",
    "input_size = X_train.shape[1]\n",
    "\n",
    "# Создаем объект модели\n",
    "model = AirQualityNet(input_size)\n",
    "\n",
    "# Проверяем доступность GPU и переносим модель на него\n",
    "device = torch.device('cuda:0' if torch.cuda.is_available() else 'cpu')\n",
    "model = model.to(device)\n",
    "\n",
    "print(f\"Модель использует устройство: {device}\")\n",
    "print(\"\\nСтруктура модели:\")\n",
    "print(model)"
   ]
  },
  {
   "cell_type": "markdown",
   "id": "90868a63",
   "metadata": {},
   "source": [
    "## 4. Напишите код цикла обучения - train-loop и валидации - eval-loop. В процессе обучения сохраняйте значения функции потерь на тренировочной и валидационной выборках - 1 балл"
   ]
  },
  {
   "cell_type": "code",
   "execution_count": 9,
   "id": "7774be86",
   "metadata": {},
   "outputs": [
    {
     "name": "stderr",
     "output_type": "stream",
     "text": [
      "Epoch 1/30: 100%|██████████████████████████████████████████████████████████████████████| 94/94 [00:03<00:00, 24.18it/s]\n"
     ]
    },
    {
     "name": "stdout",
     "output_type": "stream",
     "text": [
      "Epoch [1/30]\n",
      "Training Loss: 0.4691\n",
      "Validation Loss: 0.3322\n",
      "--------------------------------------------------\n"
     ]
    },
    {
     "name": "stderr",
     "output_type": "stream",
     "text": [
      "Epoch 2/30: 100%|█████████████████████████████████████████████████████████████████████| 94/94 [00:00<00:00, 245.43it/s]\n"
     ]
    },
    {
     "name": "stdout",
     "output_type": "stream",
     "text": [
      "Epoch [2/30]\n",
      "Training Loss: 0.2750\n",
      "Validation Loss: 0.2041\n",
      "--------------------------------------------------\n"
     ]
    },
    {
     "name": "stderr",
     "output_type": "stream",
     "text": [
      "Epoch 3/30: 100%|█████████████████████████████████████████████████████████████████████| 94/94 [00:00<00:00, 236.18it/s]\n"
     ]
    },
    {
     "name": "stdout",
     "output_type": "stream",
     "text": [
      "Epoch [3/30]\n",
      "Training Loss: 0.2129\n",
      "Validation Loss: 0.1690\n",
      "--------------------------------------------------\n"
     ]
    },
    {
     "name": "stderr",
     "output_type": "stream",
     "text": [
      "Epoch 4/30: 100%|█████████████████████████████████████████████████████████████████████| 94/94 [00:00<00:00, 246.72it/s]\n"
     ]
    },
    {
     "name": "stdout",
     "output_type": "stream",
     "text": [
      "Epoch [4/30]\n",
      "Training Loss: 0.1957\n",
      "Validation Loss: 0.1753\n",
      "--------------------------------------------------\n"
     ]
    },
    {
     "name": "stderr",
     "output_type": "stream",
     "text": [
      "Epoch 5/30: 100%|█████████████████████████████████████████████████████████████████████| 94/94 [00:00<00:00, 256.12it/s]\n"
     ]
    },
    {
     "name": "stdout",
     "output_type": "stream",
     "text": [
      "Epoch [5/30]\n",
      "Training Loss: 0.1607\n",
      "Validation Loss: 0.1495\n",
      "--------------------------------------------------\n"
     ]
    },
    {
     "name": "stderr",
     "output_type": "stream",
     "text": [
      "Epoch 6/30: 100%|█████████████████████████████████████████████████████████████████████| 94/94 [00:00<00:00, 256.13it/s]\n"
     ]
    },
    {
     "name": "stdout",
     "output_type": "stream",
     "text": [
      "Epoch [6/30]\n",
      "Training Loss: 0.1738\n",
      "Validation Loss: 0.1499\n",
      "--------------------------------------------------\n"
     ]
    },
    {
     "name": "stderr",
     "output_type": "stream",
     "text": [
      "Epoch 7/30: 100%|█████████████████████████████████████████████████████████████████████| 94/94 [00:00<00:00, 256.83it/s]\n"
     ]
    },
    {
     "name": "stdout",
     "output_type": "stream",
     "text": [
      "Epoch [7/30]\n",
      "Training Loss: 0.1713\n",
      "Validation Loss: 0.1313\n",
      "--------------------------------------------------\n"
     ]
    },
    {
     "name": "stderr",
     "output_type": "stream",
     "text": [
      "Epoch 8/30: 100%|█████████████████████████████████████████████████████████████████████| 94/94 [00:00<00:00, 255.43it/s]\n"
     ]
    },
    {
     "name": "stdout",
     "output_type": "stream",
     "text": [
      "Epoch [8/30]\n",
      "Training Loss: 0.1651\n",
      "Validation Loss: 0.1424\n",
      "--------------------------------------------------\n"
     ]
    },
    {
     "name": "stderr",
     "output_type": "stream",
     "text": [
      "Epoch 9/30: 100%|█████████████████████████████████████████████████████████████████████| 94/94 [00:00<00:00, 258.95it/s]\n"
     ]
    },
    {
     "name": "stdout",
     "output_type": "stream",
     "text": [
      "Epoch [9/30]\n",
      "Training Loss: 0.1646\n",
      "Validation Loss: 0.1233\n",
      "--------------------------------------------------\n"
     ]
    },
    {
     "name": "stderr",
     "output_type": "stream",
     "text": [
      "Epoch 10/30: 100%|████████████████████████████████████████████████████████████████████| 94/94 [00:00<00:00, 253.37it/s]\n"
     ]
    },
    {
     "name": "stdout",
     "output_type": "stream",
     "text": [
      "Epoch [10/30]\n",
      "Training Loss: 0.1612\n",
      "Validation Loss: 0.1194\n",
      "--------------------------------------------------\n"
     ]
    },
    {
     "name": "stderr",
     "output_type": "stream",
     "text": [
      "Epoch 11/30: 100%|████████████████████████████████████████████████████████████████████| 94/94 [00:00<00:00, 250.67it/s]\n"
     ]
    },
    {
     "name": "stdout",
     "output_type": "stream",
     "text": [
      "Epoch [11/30]\n",
      "Training Loss: 0.1511\n",
      "Validation Loss: 0.1230\n",
      "--------------------------------------------------\n"
     ]
    },
    {
     "name": "stderr",
     "output_type": "stream",
     "text": [
      "Epoch 12/30: 100%|████████████████████████████████████████████████████████████████████| 94/94 [00:00<00:00, 210.28it/s]\n"
     ]
    },
    {
     "name": "stdout",
     "output_type": "stream",
     "text": [
      "Epoch [12/30]\n",
      "Training Loss: 0.1549\n",
      "Validation Loss: 0.1456\n",
      "--------------------------------------------------\n"
     ]
    },
    {
     "name": "stderr",
     "output_type": "stream",
     "text": [
      "Epoch 13/30: 100%|████████████████████████████████████████████████████████████████████| 94/94 [00:00<00:00, 255.44it/s]\n"
     ]
    },
    {
     "name": "stdout",
     "output_type": "stream",
     "text": [
      "Epoch [13/30]\n",
      "Training Loss: 0.1612\n",
      "Validation Loss: 0.1125\n",
      "--------------------------------------------------\n"
     ]
    },
    {
     "name": "stderr",
     "output_type": "stream",
     "text": [
      "Epoch 14/30: 100%|████████████████████████████████████████████████████████████████████| 94/94 [00:00<00:00, 251.34it/s]\n"
     ]
    },
    {
     "name": "stdout",
     "output_type": "stream",
     "text": [
      "Epoch [14/30]\n",
      "Training Loss: 0.1474\n",
      "Validation Loss: 0.1134\n",
      "--------------------------------------------------\n"
     ]
    },
    {
     "name": "stderr",
     "output_type": "stream",
     "text": [
      "Epoch 15/30: 100%|████████████████████████████████████████████████████████████████████| 94/94 [00:00<00:00, 256.13it/s]\n"
     ]
    },
    {
     "name": "stdout",
     "output_type": "stream",
     "text": [
      "Epoch [15/30]\n",
      "Training Loss: 0.1468\n",
      "Validation Loss: 0.1067\n",
      "--------------------------------------------------\n"
     ]
    },
    {
     "name": "stderr",
     "output_type": "stream",
     "text": [
      "Epoch 16/30: 100%|████████████████████████████████████████████████████████████████████| 94/94 [00:00<00:00, 251.34it/s]\n"
     ]
    },
    {
     "name": "stdout",
     "output_type": "stream",
     "text": [
      "Epoch [16/30]\n",
      "Training Loss: 0.1538\n",
      "Validation Loss: 0.1113\n",
      "--------------------------------------------------\n"
     ]
    },
    {
     "name": "stderr",
     "output_type": "stream",
     "text": [
      "Epoch 17/30: 100%|████████████████████████████████████████████████████████████████████| 94/94 [00:00<00:00, 227.60it/s]\n"
     ]
    },
    {
     "name": "stdout",
     "output_type": "stream",
     "text": [
      "Epoch [17/30]\n",
      "Training Loss: 0.1544\n",
      "Validation Loss: 0.1294\n",
      "--------------------------------------------------\n"
     ]
    },
    {
     "name": "stderr",
     "output_type": "stream",
     "text": [
      "Epoch 18/30: 100%|████████████████████████████████████████████████████████████████████| 94/94 [00:00<00:00, 245.44it/s]\n"
     ]
    },
    {
     "name": "stdout",
     "output_type": "stream",
     "text": [
      "Epoch [18/30]\n",
      "Training Loss: 0.1506\n",
      "Validation Loss: 0.1119\n",
      "--------------------------------------------------\n"
     ]
    },
    {
     "name": "stderr",
     "output_type": "stream",
     "text": [
      "Epoch 19/30: 100%|████████████████████████████████████████████████████████████████████| 94/94 [00:00<00:00, 196.65it/s]\n"
     ]
    },
    {
     "name": "stdout",
     "output_type": "stream",
     "text": [
      "Epoch [19/30]\n",
      "Training Loss: 0.1420\n",
      "Validation Loss: 0.1074\n",
      "--------------------------------------------------\n"
     ]
    },
    {
     "name": "stderr",
     "output_type": "stream",
     "text": [
      "Epoch 20/30: 100%|████████████████████████████████████████████████████████████████████| 94/94 [00:00<00:00, 199.58it/s]\n"
     ]
    },
    {
     "name": "stdout",
     "output_type": "stream",
     "text": [
      "Epoch [20/30]\n",
      "Training Loss: 0.1524\n",
      "Validation Loss: 0.1008\n",
      "--------------------------------------------------\n"
     ]
    },
    {
     "name": "stderr",
     "output_type": "stream",
     "text": [
      "Epoch 21/30: 100%|████████████████████████████████████████████████████████████████████| 94/94 [00:00<00:00, 232.67it/s]\n"
     ]
    },
    {
     "name": "stdout",
     "output_type": "stream",
     "text": [
      "Epoch [21/30]\n",
      "Training Loss: 0.1380\n",
      "Validation Loss: 0.1026\n",
      "--------------------------------------------------\n"
     ]
    },
    {
     "name": "stderr",
     "output_type": "stream",
     "text": [
      "Epoch 22/30: 100%|████████████████████████████████████████████████████████████████████| 94/94 [00:00<00:00, 236.78it/s]\n"
     ]
    },
    {
     "name": "stdout",
     "output_type": "stream",
     "text": [
      "Epoch [22/30]\n",
      "Training Loss: 0.1456\n",
      "Validation Loss: 0.0957\n",
      "--------------------------------------------------\n"
     ]
    },
    {
     "name": "stderr",
     "output_type": "stream",
     "text": [
      "Epoch 23/30: 100%|████████████████████████████████████████████████████████████████████| 94/94 [00:00<00:00, 238.58it/s]\n"
     ]
    },
    {
     "name": "stdout",
     "output_type": "stream",
     "text": [
      "Epoch [23/30]\n",
      "Training Loss: 0.1280\n",
      "Validation Loss: 0.0991\n",
      "--------------------------------------------------\n"
     ]
    },
    {
     "name": "stderr",
     "output_type": "stream",
     "text": [
      "Epoch 24/30: 100%|████████████████████████████████████████████████████████████████████| 94/94 [00:00<00:00, 230.39it/s]\n"
     ]
    },
    {
     "name": "stdout",
     "output_type": "stream",
     "text": [
      "Epoch [24/30]\n",
      "Training Loss: 0.1326\n",
      "Validation Loss: 0.1011\n",
      "--------------------------------------------------\n"
     ]
    },
    {
     "name": "stderr",
     "output_type": "stream",
     "text": [
      "Epoch 25/30: 100%|████████████████████████████████████████████████████████████████████| 94/94 [00:00<00:00, 240.41it/s]\n"
     ]
    },
    {
     "name": "stdout",
     "output_type": "stream",
     "text": [
      "Epoch [25/30]\n",
      "Training Loss: 0.1518\n",
      "Validation Loss: 0.1279\n",
      "--------------------------------------------------\n"
     ]
    },
    {
     "name": "stderr",
     "output_type": "stream",
     "text": [
      "Epoch 26/30: 100%|████████████████████████████████████████████████████████████████████| 94/94 [00:00<00:00, 191.84it/s]\n"
     ]
    },
    {
     "name": "stdout",
     "output_type": "stream",
     "text": [
      "Epoch [26/30]\n",
      "Training Loss: 0.1327\n",
      "Validation Loss: 0.0990\n",
      "--------------------------------------------------\n"
     ]
    },
    {
     "name": "stderr",
     "output_type": "stream",
     "text": [
      "Epoch 27/30: 100%|████████████████████████████████████████████████████████████████████| 94/94 [00:00<00:00, 236.78it/s]\n"
     ]
    },
    {
     "name": "stdout",
     "output_type": "stream",
     "text": [
      "Epoch [27/30]\n",
      "Training Loss: 0.1273\n",
      "Validation Loss: 0.0971\n",
      "--------------------------------------------------\n"
     ]
    },
    {
     "name": "stderr",
     "output_type": "stream",
     "text": [
      "Epoch 28/30: 100%|████████████████████████████████████████████████████████████████████| 94/94 [00:00<00:00, 229.27it/s]\n"
     ]
    },
    {
     "name": "stdout",
     "output_type": "stream",
     "text": [
      "Epoch [28/30]\n",
      "Training Loss: 0.1302\n",
      "Validation Loss: 0.1074\n",
      "--------------------------------------------------\n"
     ]
    },
    {
     "name": "stderr",
     "output_type": "stream",
     "text": [
      "Epoch 29/30: 100%|████████████████████████████████████████████████████████████████████| 94/94 [00:00<00:00, 232.10it/s]\n"
     ]
    },
    {
     "name": "stdout",
     "output_type": "stream",
     "text": [
      "Epoch [29/30]\n",
      "Training Loss: 0.1140\n",
      "Validation Loss: 0.0983\n",
      "--------------------------------------------------\n"
     ]
    },
    {
     "name": "stderr",
     "output_type": "stream",
     "text": [
      "Epoch 30/30: 100%|████████████████████████████████████████████████████████████████████| 94/94 [00:00<00:00, 236.78it/s]\n"
     ]
    },
    {
     "name": "stdout",
     "output_type": "stream",
     "text": [
      "Epoch [30/30]\n",
      "Training Loss: 0.1335\n",
      "Validation Loss: 0.1295\n",
      "--------------------------------------------------\n"
     ]
    },
    {
     "data": {
      "image/png": "[encoded data removed]",
      "text/plain": [
       "<Figure size 1000x600 with 1 Axes>"
      ]
     },
     "metadata": {},
     "output_type": "display_data"
    }
   ],
   "source": [
    "import torch.optim as optim\n",
    "from tqdm import tqdm\n",
    "import matplotlib.pyplot as plt\n",
    "\n",
    "def train_model(model, train_loader, val_loader, criterion, optimizer, num_epochs, device):\n",
    "    # Списки для хранения значений функции потерь\n",
    "    train_losses = []\n",
    "    val_losses = []\n",
    "    \n",
    "    # Основной цикл по эпохам\n",
    "    for epoch in range(num_epochs):\n",
    "        # Training loop\n",
    "        model.train()\n",
    "        train_loss = 0.0\n",
    "        train_batches = 0\n",
    "        \n",
    "        # Используем tqdm для отображения прогресса\n",
    "        for inputs, labels in tqdm(train_loader, desc=f'Epoch {epoch+1}/{num_epochs}'):\n",
    "            # Перемещаем данные на GPU\n",
    "            inputs, labels = inputs.to(device), labels.to(device)\n",
    "            \n",
    "            # Обнуляем градиенты\n",
    "            optimizer.zero_grad()\n",
    "            \n",
    "            # Forward pass\n",
    "            outputs = model(inputs)\n",
    "            loss = criterion(outputs, labels.float())\n",
    "            \n",
    "            # Backward pass и оптимизация\n",
    "            loss.backward()\n",
    "            optimizer.step()\n",
    "            \n",
    "            # Накапливаем потери\n",
    "            train_loss += loss.item()\n",
    "            train_batches += 1\n",
    "        \n",
    "        # Вычисляем среднюю потерю за эпоху\n",
    "        avg_train_loss = train_loss / train_batches\n",
    "        train_losses.append(avg_train_loss)\n",
    "        \n",
    "        # Validation loop\n",
    "        model.eval()\n",
    "        val_loss = 0.0\n",
    "        val_batches = 0\n",
    "        \n",
    "        with torch.no_grad():  # Отключаем вычисление градиентов\n",
    "            for inputs, labels in val_loader:\n",
    "                inputs, labels = inputs.to(device), labels.to(device)\n",
    "                \n",
    "                # Forward pass\n",
    "                outputs = model(inputs)\n",
    "                loss = criterion(outputs, labels.float())\n",
    "                \n",
    "                # Накапливаем потери\n",
    "                val_loss += loss.item()\n",
    "                val_batches += 1\n",
    "        \n",
    "        # Вычисляем среднюю потерю на валидации\n",
    "        avg_val_loss = val_loss / val_batches\n",
    "        val_losses.append(avg_val_loss)\n",
    "        \n",
    "        # Выводим результаты эпохи\n",
    "        print(f'Epoch [{epoch+1}/{num_epochs}]')\n",
    "        print(f'Training Loss: {avg_train_loss:.4f}')\n",
    "        print(f'Validation Loss: {avg_val_loss:.4f}')\n",
    "        print('-' * 50)\n",
    "    \n",
    "    return train_losses, val_losses\n",
    "\n",
    "# Настройка обучения\n",
    "criterion = nn.BCELoss()  # Binary Cross Entropy Loss для бинарной классификации\n",
    "optimizer = optim.Adam(model.parameters(), lr=0.001)\n",
    "num_epochs = 30\n",
    "\n",
    "# Запуск обучения\n",
    "train_losses, val_losses = train_model(\n",
    "    model=model,\n",
    "    train_loader=train_loader,\n",
    "    val_loader=val_loader,\n",
    "    criterion=criterion,\n",
    "    optimizer=optimizer,\n",
    "    num_epochs=num_epochs,\n",
    "    device=device\n",
    ")\n",
    "\n",
    "# Визуализация результатов обучения\n",
    "plt.figure(figsize=(10, 6))\n",
    "plt.plot(train_losses, label='Training Loss')\n",
    "plt.plot(val_losses, label='Validation Loss')\n",
    "plt.xlabel('Epoch')\n",
    "plt.ylabel('Loss')\n",
    "plt.title('Training and Validation Loss')\n",
    "plt.legend()\n",
    "plt.grid(True)\n",
    "plt.show()\n",
    "\n",
    "# Сохранение обученной модели\n",
    "torch.save(model.state_dict(), 'air_quality_model.pth')"
   ]
  },
  {
   "cell_type": "code",
   "execution_count": null,
   "id": "9dfe1032",
   "metadata": {},
   "outputs": [],
   "source": []
  },
  {
   "cell_type": "markdown",
   "id": "187c8977",
   "metadata": {},
   "source": [
    "## 5. Обучите модель и проверьте ее качество - 1 балл\n",
    "\n",
    "- Выберите оптимизатор, в качестве функции потерь используйте nn.BCELoss\n",
    "- Запустите обучение, постарайтесь подобрать оптимальные скорость обучения и количество эпох, ориентируясь на динамику функции потерь на train/val\n",
    "- Измерьте качество лучшей модели на тестовой выборке, постройте отчет о классификации - classification_report"
   ]
  },
  {
   "cell_type": "code",
   "execution_count": 10,
   "id": "a7bfdc06",
   "metadata": {},
   "outputs": [
    {
     "name": "stdout",
     "output_type": "stream",
     "text": [
      "\n",
      "Обучение с learning rate: 0.001\n"
     ]
    },
    {
     "name": "stderr",
     "output_type": "stream",
     "text": [
      "Epoch 1/50: 100%|█████████████████████████████████████████████████████████████████████| 94/94 [00:00<00:00, 237.98it/s]\n",
      "Epoch 2/50: 100%|█████████████████████████████████████████████████████████████████████| 94/94 [00:00<00:00, 236.16it/s]\n",
      "Epoch 3/50: 100%|█████████████████████████████████████████████████████████████████████| 94/94 [00:00<00:00, 239.19it/s]\n",
      "Epoch 4/50: 100%|█████████████████████████████████████████████████████████████████████| 94/94 [00:00<00:00, 195.85it/s]\n",
      "Epoch 5/50: 100%|█████████████████████████████████████████████████████████████████████| 94/94 [00:00<00:00, 222.64it/s]\n"
     ]
    },
    {
     "name": "stdout",
     "output_type": "stream",
     "text": [
      "Epoch [5/50]\n",
      "Train Loss: 0.1911, Val Loss: 0.1466\n"
     ]
    },
    {
     "name": "stderr",
     "output_type": "stream",
     "text": [
      "Epoch 6/50: 100%|█████████████████████████████████████████████████████████████████████| 94/94 [00:00<00:00, 220.14it/s]\n",
      "Epoch 7/50: 100%|█████████████████████████████████████████████████████████████████████| 94/94 [00:00<00:00, 246.07it/s]\n",
      "Epoch 8/50: 100%|█████████████████████████████████████████████████████████████████████| 94/94 [00:00<00:00, 239.80it/s]\n",
      "Epoch 9/50: 100%|█████████████████████████████████████████████████████████████████████| 94/94 [00:00<00:00, 246.07it/s]\n",
      "Epoch 10/50: 100%|████████████████████████████████████████████████████████████████████| 94/94 [00:00<00:00, 251.34it/s]\n"
     ]
    },
    {
     "name": "stdout",
     "output_type": "stream",
     "text": [
      "Epoch [10/50]\n",
      "Train Loss: 0.1568, Val Loss: 0.1214\n"
     ]
    },
    {
     "name": "stderr",
     "output_type": "stream",
     "text": [
      "Epoch 11/50: 100%|████████████████████████████████████████████████████████████████████| 94/94 [00:00<00:00, 254.05it/s]\n",
      "Epoch 12/50: 100%|████████████████████████████████████████████████████████████████████| 94/94 [00:00<00:00, 256.13it/s]\n",
      "Epoch 13/50: 100%|████████████████████████████████████████████████████████████████████| 94/94 [00:00<00:00, 254.05it/s]\n",
      "Epoch 14/50: 100%|████████████████████████████████████████████████████████████████████| 94/94 [00:00<00:00, 252.69it/s]\n",
      "Epoch 15/50: 100%|████████████████████████████████████████████████████████████████████| 94/94 [00:00<00:00, 240.10it/s]\n"
     ]
    },
    {
     "name": "stdout",
     "output_type": "stream",
     "text": [
      "Epoch [15/50]\n",
      "Train Loss: 0.1488, Val Loss: 0.1312\n"
     ]
    },
    {
     "name": "stderr",
     "output_type": "stream",
     "text": [
      "Epoch 16/50: 100%|████████████████████████████████████████████████████████████████████| 94/94 [00:00<00:00, 253.38it/s]\n",
      "Epoch 17/50: 100%|████████████████████████████████████████████████████████████████████| 94/94 [00:00<00:00, 260.39it/s]\n",
      "Epoch 18/50: 100%|████████████████████████████████████████████████████████████████████| 94/94 [00:00<00:00, 251.22it/s]\n",
      "Epoch 19/50: 100%|████████████████████████████████████████████████████████████████████| 94/94 [00:00<00:00, 203.91it/s]\n",
      "Epoch 20/50: 100%|████████████████████████████████████████████████████████████████████| 94/94 [00:00<00:00, 250.00it/s]\n"
     ]
    },
    {
     "name": "stdout",
     "output_type": "stream",
     "text": [
      "Epoch [20/50]\n",
      "Train Loss: 0.1596, Val Loss: 0.1080\n"
     ]
    },
    {
     "name": "stderr",
     "output_type": "stream",
     "text": [
      "Epoch 21/50: 100%|████████████████████████████████████████████████████████████████████| 94/94 [00:00<00:00, 249.34it/s]\n",
      "Epoch 22/50: 100%|████████████████████████████████████████████████████████████████████| 94/94 [00:00<00:00, 262.56it/s]\n",
      "Epoch 23/50: 100%|████████████████████████████████████████████████████████████████████| 94/94 [00:00<00:00, 254.74it/s]\n",
      "Epoch 24/50: 100%|████████████████████████████████████████████████████████████████████| 94/94 [00:00<00:00, 246.07it/s]\n",
      "Epoch 25/50: 100%|████████████████████████████████████████████████████████████████████| 94/94 [00:00<00:00, 239.80it/s]\n"
     ]
    },
    {
     "name": "stdout",
     "output_type": "stream",
     "text": [
      "Epoch [25/50]\n",
      "Train Loss: 0.1288, Val Loss: 0.0960\n"
     ]
    },
    {
     "name": "stderr",
     "output_type": "stream",
     "text": [
      "Epoch 26/50: 100%|████████████████████████████████████████████████████████████████████| 94/94 [00:00<00:00, 253.37it/s]\n",
      "Epoch 27/50: 100%|████████████████████████████████████████████████████████████████████| 94/94 [00:00<00:00, 247.37it/s]\n",
      "Epoch 28/50: 100%|████████████████████████████████████████████████████████████████████| 94/94 [00:00<00:00, 254.05it/s]\n",
      "Epoch 29/50: 100%|████████████████████████████████████████████████████████████████████| 94/94 [00:00<00:00, 251.11it/s]\n",
      "Epoch 30/50: 100%|████████████████████████████████████████████████████████████████████| 94/94 [00:00<00:00, 254.75it/s]\n"
     ]
    },
    {
     "name": "stdout",
     "output_type": "stream",
     "text": [
      "Epoch [30/50]\n",
      "Train Loss: 0.1156, Val Loss: 0.0935\n"
     ]
    },
    {
     "name": "stderr",
     "output_type": "stream",
     "text": [
      "Epoch 31/50: 100%|████████████████████████████████████████████████████████████████████| 94/94 [00:00<00:00, 254.05it/s]\n",
      "Epoch 32/50: 100%|████████████████████████████████████████████████████████████████████| 94/94 [00:00<00:00, 217.09it/s]\n",
      "Epoch 33/50: 100%|████████████████████████████████████████████████████████████████████| 94/94 [00:00<00:00, 221.70it/s]\n",
      "Epoch 34/50: 100%|████████████████████████████████████████████████████████████████████| 94/94 [00:00<00:00, 252.01it/s]\n",
      "Epoch 35/50: 100%|████████████████████████████████████████████████████████████████████| 94/94 [00:00<00:00, 260.39it/s]\n"
     ]
    },
    {
     "name": "stdout",
     "output_type": "stream",
     "text": [
      "Epoch [35/50]\n",
      "Train Loss: 0.1256, Val Loss: 0.0782\n"
     ]
    },
    {
     "name": "stderr",
     "output_type": "stream",
     "text": [
      "Epoch 36/50: 100%|████████████████████████████████████████████████████████████████████| 94/94 [00:00<00:00, 253.38it/s]\n",
      "Epoch 37/50: 100%|████████████████████████████████████████████████████████████████████| 94/94 [00:00<00:00, 248.24it/s]\n",
      "Epoch 38/50: 100%|████████████████████████████████████████████████████████████████████| 94/94 [00:00<00:00, 253.37it/s]\n",
      "Epoch 39/50: 100%|████████████████████████████████████████████████████████████████████| 94/94 [00:00<00:00, 252.03it/s]\n",
      "Epoch 40/50: 100%|████████████████████████████████████████████████████████████████████| 94/94 [00:00<00:00, 258.95it/s]\n"
     ]
    },
    {
     "name": "stdout",
     "output_type": "stream",
     "text": [
      "Epoch [40/50]\n",
      "Train Loss: 0.1378, Val Loss: 0.0813\n"
     ]
    },
    {
     "name": "stderr",
     "output_type": "stream",
     "text": [
      "Epoch 41/50: 100%|████████████████████████████████████████████████████████████████████| 94/94 [00:00<00:00, 252.01it/s]\n",
      "Epoch 42/50: 100%|████████████████████████████████████████████████████████████████████| 94/94 [00:00<00:00, 244.80it/s]\n",
      "Epoch 43/50: 100%|████████████████████████████████████████████████████████████████████| 94/94 [00:00<00:00, 250.00it/s]\n",
      "Epoch 44/50: 100%|████████████████████████████████████████████████████████████████████| 94/94 [00:00<00:00, 244.79it/s]\n",
      "Epoch 45/50: 100%|████████████████████████████████████████████████████████████████████| 94/94 [00:00<00:00, 249.94it/s]\n"
     ]
    },
    {
     "name": "stdout",
     "output_type": "stream",
     "text": [
      "Epoch [45/50]\n",
      "Train Loss: 0.1189, Val Loss: 0.0840\n"
     ]
    },
    {
     "name": "stderr",
     "output_type": "stream",
     "text": [
      "Epoch 46/50: 100%|████████████████████████████████████████████████████████████████████| 94/94 [00:00<00:00, 252.69it/s]\n",
      "Epoch 47/50: 100%|████████████████████████████████████████████████████████████████████| 94/94 [00:00<00:00, 251.34it/s]\n",
      "Epoch 48/50: 100%|████████████████████████████████████████████████████████████████████| 94/94 [00:00<00:00, 208.43it/s]\n",
      "Epoch 49/50: 100%|████████████████████████████████████████████████████████████████████| 94/94 [00:00<00:00, 244.16it/s]\n",
      "Epoch 50/50: 100%|████████████████████████████████████████████████████████████████████| 94/94 [00:00<00:00, 248.68it/s]\n"
     ]
    },
    {
     "name": "stdout",
     "output_type": "stream",
     "text": [
      "Epoch [50/50]\n",
      "Train Loss: 0.1325, Val Loss: 0.1102\n",
      "\n",
      "Обучение с learning rate: 0.0001\n"
     ]
    },
    {
     "name": "stderr",
     "output_type": "stream",
     "text": [
      "Epoch 1/50: 100%|█████████████████████████████████████████████████████████████████████| 94/94 [00:00<00:00, 248.68it/s]\n",
      "Epoch 2/50: 100%|█████████████████████████████████████████████████████████████████████| 94/94 [00:00<00:00, 255.44it/s]\n",
      "Epoch 3/50: 100%|█████████████████████████████████████████████████████████████████████| 94/94 [00:00<00:00, 248.02it/s]\n",
      "Epoch 4/50: 100%|█████████████████████████████████████████████████████████████████████| 94/94 [00:00<00:00, 253.37it/s]\n",
      "Epoch 5/50: 100%|█████████████████████████████████████████████████████████████████████| 94/94 [00:00<00:00, 254.74it/s]\n"
     ]
    },
    {
     "name": "stdout",
     "output_type": "stream",
     "text": [
      "Epoch [5/50]\n",
      "Train Loss: 0.4223, Val Loss: 0.4068\n"
     ]
    },
    {
     "name": "stderr",
     "output_type": "stream",
     "text": [
      "Epoch 6/50: 100%|█████████████████████████████████████████████████████████████████████| 94/94 [00:00<00:00, 248.01it/s]\n",
      "Epoch 7/50: 100%|█████████████████████████████████████████████████████████████████████| 94/94 [00:00<00:00, 249.34it/s]\n",
      "Epoch 8/50: 100%|█████████████████████████████████████████████████████████████████████| 94/94 [00:00<00:00, 254.05it/s]\n",
      "Epoch 9/50: 100%|█████████████████████████████████████████████████████████████████████| 94/94 [00:00<00:00, 256.83it/s]\n",
      "Epoch 10/50: 100%|████████████████████████████████████████████████████████████████████| 94/94 [00:00<00:00, 254.06it/s]\n"
     ]
    },
    {
     "name": "stdout",
     "output_type": "stream",
     "text": [
      "Epoch [10/50]\n",
      "Train Loss: 0.3142, Val Loss: 0.2935\n"
     ]
    },
    {
     "name": "stderr",
     "output_type": "stream",
     "text": [
      "Epoch 11/50: 100%|████████████████████████████████████████████████████████████████████| 94/94 [00:00<00:00, 251.33it/s]\n",
      "Epoch 12/50: 100%|████████████████████████████████████████████████████████████████████| 94/94 [00:00<00:00, 245.43it/s]\n",
      "Epoch 13/50: 100%|████████████████████████████████████████████████████████████████████| 94/94 [00:00<00:00, 243.52it/s]\n",
      "Epoch 14/50: 100%|████████████████████████████████████████████████████████████████████| 94/94 [00:00<00:00, 205.24it/s]\n",
      "Epoch 15/50: 100%|████████████████████████████████████████████████████████████████████| 94/94 [00:00<00:00, 230.96it/s]\n"
     ]
    },
    {
     "name": "stdout",
     "output_type": "stream",
     "text": [
      "Epoch [15/50]\n",
      "Train Loss: 0.2615, Val Loss: 0.2314\n"
     ]
    },
    {
     "name": "stderr",
     "output_type": "stream",
     "text": [
      "Epoch 16/50: 100%|████████████████████████████████████████████████████████████████████| 94/94 [00:00<00:00, 232.68it/s]\n",
      "Epoch 17/50: 100%|████████████████████████████████████████████████████████████████████| 94/94 [00:00<00:00, 230.39it/s]\n",
      "Epoch 18/50: 100%|████████████████████████████████████████████████████████████████████| 94/94 [00:00<00:00, 237.97it/s]\n",
      "Epoch 19/50: 100%|████████████████████████████████████████████████████████████████████| 94/94 [00:00<00:00, 230.96it/s]\n",
      "Epoch 20/50: 100%|████████████████████████████████████████████████████████████████████| 94/94 [00:00<00:00, 202.15it/s]\n"
     ]
    },
    {
     "name": "stdout",
     "output_type": "stream",
     "text": [
      "Epoch [20/50]\n",
      "Train Loss: 0.2245, Val Loss: 0.1983\n"
     ]
    },
    {
     "name": "stderr",
     "output_type": "stream",
     "text": [
      "Epoch 21/50: 100%|████████████████████████████████████████████████████████████████████| 94/94 [00:00<00:00, 234.41it/s]\n",
      "Epoch 22/50: 100%|████████████████████████████████████████████████████████████████████| 94/94 [00:00<00:00, 259.67it/s]\n",
      "Epoch 23/50: 100%|████████████████████████████████████████████████████████████████████| 94/94 [00:00<00:00, 264.79it/s]\n",
      "Epoch 24/50: 100%|████████████████████████████████████████████████████████████████████| 94/94 [00:00<00:00, 266.29it/s]\n",
      "Epoch 25/50: 100%|████████████████████████████████████████████████████████████████████| 94/94 [00:00<00:00, 215.10it/s]\n"
     ]
    },
    {
     "name": "stdout",
     "output_type": "stream",
     "text": [
      "Epoch [25/50]\n",
      "Train Loss: 0.2087, Val Loss: 0.1780\n"
     ]
    },
    {
     "name": "stderr",
     "output_type": "stream",
     "text": [
      "Epoch 26/50: 100%|████████████████████████████████████████████████████████████████████| 94/94 [00:00<00:00, 265.54it/s]\n",
      "Epoch 27/50: 100%|████████████████████████████████████████████████████████████████████| 94/94 [00:00<00:00, 266.29it/s]\n",
      "Epoch 28/50: 100%|████████████████████████████████████████████████████████████████████| 94/94 [00:00<00:00, 264.05it/s]\n",
      "Epoch 29/50: 100%|████████████████████████████████████████████████████████████████████| 94/94 [00:00<00:00, 264.04it/s]\n",
      "Epoch 30/50: 100%|████████████████████████████████████████████████████████████████████| 94/94 [00:00<00:00, 263.31it/s]\n"
     ]
    },
    {
     "name": "stdout",
     "output_type": "stream",
     "text": [
      "Epoch [30/50]\n",
      "Train Loss: 0.1970, Val Loss: 0.1643\n"
     ]
    },
    {
     "name": "stderr",
     "output_type": "stream",
     "text": [
      "Epoch 31/50: 100%|████████████████████████████████████████████████████████████████████| 94/94 [00:00<00:00, 265.54it/s]\n",
      "Epoch 32/50: 100%|████████████████████████████████████████████████████████████████████| 94/94 [00:00<00:00, 260.39it/s]\n",
      "Epoch 33/50: 100%|████████████████████████████████████████████████████████████████████| 94/94 [00:00<00:00, 262.57it/s]\n",
      "Epoch 34/50: 100%|████████████████████████████████████████████████████████████████████| 94/94 [00:00<00:00, 264.04it/s]\n",
      "Epoch 35/50: 100%|████████████████████████████████████████████████████████████████████| 94/94 [00:00<00:00, 264.04it/s]\n"
     ]
    },
    {
     "name": "stdout",
     "output_type": "stream",
     "text": [
      "Epoch [35/50]\n",
      "Train Loss: 0.1872, Val Loss: 0.1569\n"
     ]
    },
    {
     "name": "stderr",
     "output_type": "stream",
     "text": [
      "Epoch 36/50: 100%|████████████████████████████████████████████████████████████████████| 94/94 [00:00<00:00, 262.55it/s]\n",
      "Epoch 37/50: 100%|████████████████████████████████████████████████████████████████████| 94/94 [00:00<00:00, 261.11it/s]\n",
      "Epoch 38/50: 100%|████████████████████████████████████████████████████████████████████| 94/94 [00:00<00:00, 233.25it/s]\n",
      "Epoch 39/50: 100%|████████████████████████████████████████████████████████████████████| 94/94 [00:00<00:00, 254.05it/s]\n",
      "Epoch 40/50: 100%|████████████████████████████████████████████████████████████████████| 94/94 [00:00<00:00, 213.15it/s]\n"
     ]
    },
    {
     "name": "stdout",
     "output_type": "stream",
     "text": [
      "Epoch [40/50]\n",
      "Train Loss: 0.1883, Val Loss: 0.1534\n"
     ]
    },
    {
     "name": "stderr",
     "output_type": "stream",
     "text": [
      "Epoch 41/50: 100%|████████████████████████████████████████████████████████████████████| 94/94 [00:00<00:00, 183.24it/s]\n",
      "Epoch 42/50: 100%|████████████████████████████████████████████████████████████████████| 94/94 [00:00<00:00, 233.25it/s]\n",
      "Epoch 43/50: 100%|████████████████████████████████████████████████████████████████████| 94/94 [00:00<00:00, 238.58it/s]\n",
      "Epoch 44/50: 100%|████████████████████████████████████████████████████████████████████| 94/94 [00:00<00:00, 251.34it/s]\n",
      "Epoch 45/50: 100%|████████████████████████████████████████████████████████████████████| 94/94 [00:00<00:00, 241.03it/s]\n"
     ]
    },
    {
     "name": "stdout",
     "output_type": "stream",
     "text": [
      "Epoch [45/50]\n",
      "Train Loss: 0.1804, Val Loss: 0.1477\n"
     ]
    },
    {
     "name": "stderr",
     "output_type": "stream",
     "text": [
      "Epoch 46/50: 100%|████████████████████████████████████████████████████████████████████| 94/94 [00:00<00:00, 249.34it/s]\n",
      "Epoch 47/50: 100%|████████████████████████████████████████████████████████████████████| 94/94 [00:00<00:00, 226.50it/s]\n",
      "Epoch 48/50: 100%|████████████████████████████████████████████████████████████████████| 94/94 [00:00<00:00, 235.00it/s]\n",
      "Epoch 49/50: 100%|████████████████████████████████████████████████████████████████████| 94/94 [00:00<00:00, 249.31it/s]\n",
      "Epoch 50/50: 100%|████████████████████████████████████████████████████████████████████| 94/94 [00:00<00:00, 254.06it/s]\n"
     ]
    },
    {
     "name": "stdout",
     "output_type": "stream",
     "text": [
      "Epoch [50/50]\n",
      "Train Loss: 0.1759, Val Loss: 0.1391\n"
     ]
    },
    {
     "data": {
      "image/png": "[encoded data removed]",
      "text/plain": [
       "<Figure size 1200x600 with 1 Axes>"
      ]
     },
     "metadata": {},
     "output_type": "display_data"
    },
    {
     "name": "stdout",
     "output_type": "stream",
     "text": [
      "\n",
      "Лучший learning rate: 0.001\n",
      "\n",
      "Отчет о классификации:\n",
      "                  precision    recall  f1-score   support\n",
      "\n",
      " Плохое качество       1.00      0.89      0.94       300\n",
      "Хорошее качество       0.95      1.00      0.98       700\n",
      "\n",
      "        accuracy                           0.97      1000\n",
      "       macro avg       0.98      0.94      0.96      1000\n",
      "    weighted avg       0.97      0.97      0.97      1000\n",
      "\n"
     ]
    }
   ],
   "source": [
    "from sklearn.metrics import classification_report\n",
    "import torch.optim as optim\n",
    "import numpy as np\n",
    "from tqdm import tqdm\n",
    "\n",
    "# Функция для оценки модели на тестовой выборке\n",
    "def evaluate_model(model, test_loader, device):\n",
    "    model.eval()\n",
    "    all_predictions = []\n",
    "    all_labels = []\n",
    "    \n",
    "    with torch.no_grad():\n",
    "        for inputs, labels in test_loader:\n",
    "            inputs = inputs.to(device)\n",
    "            outputs = model(inputs)\n",
    "            predicted = (outputs > 0.5).float().cpu().numpy()\n",
    "            all_predictions.extend(predicted)\n",
    "            all_labels.extend(labels.numpy())\n",
    "    \n",
    "    return np.array(all_predictions), np.array(all_labels)\n",
    "\n",
    "# Параметры обучения\n",
    "learning_rates = [0.001, 0.0001]  # Попробуем разные learning rates\n",
    "num_epochs = 50\n",
    "best_val_loss = float('inf')\n",
    "best_model_state = None\n",
    "\n",
    "# Словарь для хранения результатов для разных learning rates\n",
    "results = {}\n",
    "\n",
    "for lr in learning_rates:\n",
    "    print(f\"\\nОбучение с learning rate: {lr}\")\n",
    "    \n",
    "    # Инициализируем модель и оптимизатор\n",
    "    model = AirQualityNet(input_size).to(device)\n",
    "    optimizer = optim.Adam(model.parameters(), lr=lr)\n",
    "    criterion = nn.BCELoss()\n",
    "    \n",
    "    # Списки для хранения потерь\n",
    "    train_losses = []\n",
    "    val_losses = []\n",
    "    \n",
    "    # Обучение модели\n",
    "    for epoch in range(num_epochs):\n",
    "        # Training phase\n",
    "        model.train()\n",
    "        train_loss = 0.0\n",
    "        for inputs, labels in tqdm(train_loader, desc=f'Epoch {epoch+1}/{num_epochs}'):\n",
    "            inputs, labels = inputs.to(device), labels.to(device)\n",
    "            \n",
    "            optimizer.zero_grad()\n",
    "            outputs = model(inputs)\n",
    "            loss = criterion(outputs, labels.float())\n",
    "            loss.backward()\n",
    "            optimizer.step()\n",
    "            \n",
    "            train_loss += loss.item()\n",
    "        \n",
    "        avg_train_loss = train_loss / len(train_loader)\n",
    "        train_losses.append(avg_train_loss)\n",
    "        \n",
    "        # Validation phase\n",
    "        model.eval()\n",
    "        val_loss = 0.0\n",
    "        with torch.no_grad():\n",
    "            for inputs, labels in val_loader:\n",
    "                inputs, labels = inputs.to(device), labels.to(device)\n",
    "                outputs = model(inputs)\n",
    "                loss = criterion(outputs, labels.float())\n",
    "                val_loss += loss.item()\n",
    "        \n",
    "        avg_val_loss = val_loss / len(val_loader)\n",
    "        val_losses.append(avg_val_loss)\n",
    "        \n",
    "        # Сохраняем лучшую модель\n",
    "        if avg_val_loss < best_val_loss:\n",
    "            best_val_loss = avg_val_loss\n",
    "            best_model_state = model.state_dict().copy()\n",
    "        \n",
    "        if (epoch + 1) % 5 == 0:\n",
    "            print(f'Epoch [{epoch+1}/{num_epochs}]')\n",
    "            print(f'Train Loss: {avg_train_loss:.4f}, Val Loss: {avg_val_loss:.4f}')\n",
    "    \n",
    "    results[lr] = {\n",
    "        'train_losses': train_losses,\n",
    "        'val_losses': val_losses,\n",
    "        'best_val_loss': best_val_loss\n",
    "    }\n",
    "\n",
    "# Визуализация результатов для разных learning rates\n",
    "plt.figure(figsize=(12, 6))\n",
    "for lr in learning_rates:\n",
    "    plt.plot(results[lr]['train_losses'], label=f'Train (lr={lr})')\n",
    "    plt.plot(results[lr]['val_losses'], label=f'Val (lr={lr})')\n",
    "plt.xlabel('Epoch')\n",
    "plt.ylabel('Loss')\n",
    "plt.title('Training and Validation Loss for Different Learning Rates')\n",
    "plt.legend()\n",
    "plt.grid(True)\n",
    "plt.show()\n",
    "\n",
    "# Выбираем лучший learning rate\n",
    "best_lr = min(results.keys(), key=lambda x: results[x]['best_val_loss'])\n",
    "print(f\"\\nЛучший learning rate: {best_lr}\")\n",
    "\n",
    "# Загружаем лучшую модель\n",
    "model.load_state_dict(best_model_state)\n",
    "\n",
    "# Оцениваем модель на тестовой выборке\n",
    "y_pred, y_true = evaluate_model(model, test_loader, device)\n",
    "\n",
    "# Выводим отчет о классификации\n",
    "print(\"\\nОтчет о классификации:\")\n",
    "print(classification_report(y_true, y_pred, target_names=['Плохое качество', 'Хорошее качество']))\n",
    "\n",
    "# Сохраняем лучшую модель\n",
    "torch.save({\n",
    "    'model_state_dict': best_model_state,\n",
    "    'learning_rate': best_lr,\n",
    "    'best_val_loss': best_val_loss\n",
    "}, 'best_air_quality_model.pth')"
   ]
  },
  {
   "cell_type": "markdown",
   "id": "5c775aa3",
   "metadata": {},
   "source": [
    "## Выводы: \n",
    "\n",
    "- Получилось обучить нейронную сеть дял предсказания качества воздуха. \n"
   ]
  }
 ],
 "metadata": {
  "kernelspec": {
   "display_name": "Python 3 (ipykernel)",
   "language": "python",
   "name": "python3"
  },
  "language_info": {
   "codemirror_mode": {
    "name": "ipython",
    "version": 3
   },
   "file_extension": ".py",
   "mimetype": "text/x-python",
   "name": "python",
   "nbconvert_exporter": "python",
   "pygments_lexer": "ipython3",
   "version": "3.11.5"
  }
 },
 "nbformat": 4,
 "nbformat_minor": 5
}
